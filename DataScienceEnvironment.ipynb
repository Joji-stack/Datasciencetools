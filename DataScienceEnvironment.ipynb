{
 "cells": [
  {
   "cell_type": "markdown",
   "id": "0a51715b-42dd-4453-a035-48a4e2f5e59f",
   "metadata": {},
   "source": [
    "# Datascience Tools and Ecosystems"
   ]
  },
  {
   "cell_type": "markdown",
   "id": "5d3f1088-88f3-4bc6-9540-7e842d977e80",
   "metadata": {},
   "source": [
    "### Datascience tools are used for analyzing,processing and interpreting large sets of data to gain valuable insights.These tools help scientists to manage their own data lifecycles from collection to visualisation such as the following :\n"
   ]
  },
  {
   "cell_type": "markdown",
   "id": "87a06731-0308-4d43-892e-3942d38505ee",
   "metadata": {},
   "source": [
    "## **Objectives :**\n"
   ]
  },
  {
   "cell_type": "markdown",
   "id": "ef655852-e729-453d-9214-518ed6db0c99",
   "metadata": {},
   "source": [
    "## \n",
    "*Introduction to Data Science Tools: Data science tools are essential for managing data from collection to analysis, including programming languages, data manipulation, machine learning, and visualization tools.\n",
    "\n",
    "*Famous Libraries: Key libraries used by data scientists include Pandas, NumPy, Scikit-learn, TensorFlow, PyTorch, and others for tasks ranging from data manipulation to deep learning and natural language processing.\n",
    "\n",
    "*Development Environments: Common open-source development environments for data science include Jupyter Notebook, RStudio, and Visual Studio Code (VS Code)."
   ]
  },
  {
   "cell_type": "markdown",
   "id": "bc766faa-1b70-44a1-8898-57cb5d969f2d",
   "metadata": {},
   "source": [
    "\n",
    "1. **Python**\n",
    "2. **Tableau**\n",
    "3. **Apache Spark**\n",
    "4. **Hadoop**"
   ]
  },
  {
   "cell_type": "markdown",
   "id": "d791a0d5-8beb-4307-b03f-475f7cb82362",
   "metadata": {},
   "source": [
    "### Some of the famous libraries used by these data scientists are as follows:"
   ]
  },
  {
   "cell_type": "markdown",
   "id": "ec233b7d-204e-4e38-86c1-15ba27f7705b",
   "metadata": {},
   "source": [
    "### \n",
    "1. **Numpy**\n",
    "2. **Pandas**\n",
    "3. **Matplotlib** \n"
   ]
  },
  {
   "cell_type": "markdown",
   "id": "97af0433-667f-4f98-8ad6-e637f4796288",
   "metadata": {},
   "source": [
    "| Data science tools |\n",
    "|--------------------|\n",
    "| Jupyter notebook |\n",
    "|Rstudio|\n",
    "|VScode|"
   ]
  },
  {
   "cell_type": "markdown",
   "id": "a4e1d364-3c0e-4134-ab08-b6b659e48dc3",
   "metadata": {},
   "source": [
    "### below are a few examples of evaluating arithemetic expressions:\n"
   ]
  },
  {
   "cell_type": "code",
   "execution_count": 5,
   "id": "8cbcd269-d38b-4712-962b-5740f8884b58",
   "metadata": {},
   "outputs": [
    {
     "data": {
      "text/plain": [
       "17"
      ]
     },
     "execution_count": 5,
     "metadata": {},
     "output_type": "execute_result"
    }
   ],
   "source": [
    "(3*4)+5"
   ]
  },
  {
   "cell_type": "code",
   "execution_count": 6,
   "id": "9ecce060-13dc-47ab-92de-3c2ffbeb21eb",
   "metadata": {},
   "outputs": [
    {
     "data": {
      "text/plain": [
       "5"
      ]
     },
     "execution_count": 6,
     "metadata": {},
     "output_type": "execute_result"
    }
   ],
   "source": [
    "(4*2)-3"
   ]
  },
  {
   "cell_type": "code",
   "execution_count": 8,
   "id": "f4dadcf0-491e-4c85-af63-045d1d306c2f",
   "metadata": {},
   "outputs": [
    {
     "data": {
      "text/plain": [
       "10.0"
      ]
     },
     "execution_count": 8,
     "metadata": {},
     "output_type": "execute_result"
    }
   ],
   "source": [
    "\n",
    "600/60\n",
    "#this will convert 600 minutes to hours"
   ]
  },
  {
   "cell_type": "markdown",
   "id": "9dfa9472-bc8f-4ac5-8d0d-031062fff5e2",
   "metadata": {},
   "source": [
    "## Author"
   ]
  },
  {
   "cell_type": "markdown",
   "id": "4964f904-c0c5-406b-a55e-36af85404c07",
   "metadata": {},
   "source": [
    "Ayush Joshi\n"
   ]
  },
  {
   "cell_type": "code",
   "execution_count": null,
   "id": "60e3f5c3-a27d-4060-8750-ad4a7a93a54f",
   "metadata": {},
   "outputs": [],
   "source": []
  }
 ],
 "metadata": {
  "kernelspec": {
   "display_name": "Python 3 (ipykernel)",
   "language": "python",
   "name": "python3"
  },
  "language_info": {
   "codemirror_mode": {
    "name": "ipython",
    "version": 3
   },
   "file_extension": ".py",
   "mimetype": "text/x-python",
   "name": "python",
   "nbconvert_exporter": "python",
   "pygments_lexer": "ipython3",
   "version": "3.10.8"
  }
 },
 "nbformat": 4,
 "nbformat_minor": 5
}
